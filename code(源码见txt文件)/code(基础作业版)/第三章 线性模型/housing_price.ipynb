{
 "cells": [
  {
   "cell_type": "markdown",
   "source": [
    "## 房价预测模型时的python代码\r\n",
    "题目：从给定的房屋基本信息以及房屋销售信息等，建立一个回归模型预测房屋的销售价格。"
   ],
   "metadata": {}
  },
  {
   "cell_type": "code",
   "execution_count": null,
   "source": [
    "# 兼容 pythone2,3\r\n",
    "from __future__ import print_function\r\n",
    "\r\n",
    "# 导入相关python库\r\n",
    "import os\r\n",
    "import numpy as np\r\n",
    "import pandas as pd\r\n",
    "\r\n",
    "#设定随机数种子\r\n",
    "np.random.seed(36)\r\n",
    "\r\n",
    "#使用matplotlib库画图\r\n",
    "import matplotlib\r\n",
    "import seaborn\r\n",
    "import matplotlib.pyplot as plot\r\n",
    "\r\n",
    "from sklearn import datasets"
   ],
   "outputs": [],
   "metadata": {}
  },
  {
   "cell_type": "code",
   "execution_count": null,
   "source": [
    "#读取数据\r\n",
    "housing = pd.read_csv('kc_train.csv')\r\n",
    "target=pd.read_csv('kc_train2.csv')  #销售价格\r\n",
    "t=pd.read_csv('kc_test.csv')         #测试数据"
   ],
   "outputs": [],
   "metadata": {}
  },
  {
   "cell_type": "code",
   "execution_count": null,
   "source": [
    "#数据预处理\r\n",
    "housing.info()    #查看是否有缺失值\r\n",
    "\r\n",
    "#特征缩放\r\n",
    "from sklearn.preprocessing import MinMaxScaler\r\n",
    "minmax_scaler=MinMaxScaler()\r\n",
    "minmax_scaler.fit(housing)   #进行内部拟合，内部参数会发生变化\r\n",
    "scaler_housing=minmax_scaler.transform(housing)\r\n",
    "scaler_housing=pd.DataFrame(scaler_housing,columns=housing.columns)\r\n",
    "\r\n",
    "mm=MinMaxScaler()\r\n",
    "mm.fit(t)\r\n",
    "scaler_t=mm.transform(t)\r\n",
    "scaler_t=pd.DataFrame(scaler_t,columns=t.columns)\r\n"
   ],
   "outputs": [],
   "metadata": {}
  },
  {
   "cell_type": "code",
   "execution_count": null,
   "source": [
    "#选择基于梯度下降的线性回归模型\r\n",
    "from sklearn.linear_model import LinearRegression\r\n",
    "LR_reg=LinearRegression()\r\n",
    "#进行拟合\r\n",
    "LR_reg.fit(scaler_housing,target)\r\n",
    "\r\n",
    "\r\n",
    "#使用均方误差用于评价模型好坏\r\n",
    "from sklearn.metrics import mean_squared_error\r\n",
    "preds=LR_reg.predict(scaler_housing)   #输入数据进行预测得到结果\r\n",
    "mse=mean_squared_error(preds,target)   #使用均方误差来评价模型好坏，可以输出mse进行查看评价值"
   ],
   "outputs": [],
   "metadata": {}
  },
  {
   "cell_type": "code",
   "execution_count": null,
   "source": [
    "#绘图进行比较\r\n",
    "plot.figure(figsize=(10,7))       #画布大小\r\n",
    "num=100\r\n",
    "x=np.arange(1,num+1)              #取100个点进行比较\r\n",
    "plot.plot(x,target[:num],label='target')      #目标取值\r\n",
    "plot.plot(x,preds[:num],label='preds')        #预测取值\r\n",
    "plot.legend(loc='upper right')  #线条显示位置\r\n",
    "plot.show()"
   ],
   "outputs": [],
   "metadata": {}
  },
  {
   "cell_type": "code",
   "execution_count": null,
   "source": [
    "#输出测试数据\r\n",
    "result=LR_reg.predict(scaler_t)\r\n",
    "df_result=pd.DataFrame(result)\r\n",
    "df_result.to_csv(\"result.csv\")"
   ],
   "outputs": [],
   "metadata": {}
  }
 ],
 "metadata": {
  "orig_nbformat": 4,
  "language_info": {
   "name": "python",
   "version": "3.5.1"
  },
  "kernelspec": {
   "name": "python3",
   "display_name": "Python 3.5.1 64-bit (system)"
  },
  "interpreter": {
   "hash": "9102dcdfed993e3ae55df126a81880772fa8b75d9e5a60fa31b5e8708f97b0d2"
  }
 },
 "nbformat": 4,
 "nbformat_minor": 2
}