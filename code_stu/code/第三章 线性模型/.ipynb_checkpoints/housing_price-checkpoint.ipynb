{
 "cells": [
  {
   "cell_type": "markdown",
   "metadata": {},
   "source": [
    "## 房价预测\n",
    "题目：使用sklearn机器学习库进行房价预测。\n",
    "          1. 从给定的房屋基本信息以及房屋销售信息等，建立一个回归模型预测房屋的销售价格；\n",
    "         2.  使用matplotlib展示最终的预测结果与实际结果的对比。\n"
   ]
  },
  {
   "cell_type": "code",
   "execution_count": 63,
   "metadata": {},
   "outputs": [],
   "source": [
    "# 兼容 pythone2,3\n",
    "from __future__ import print_function\n",
    "\n",
    "# 导入相关python库\n",
    "import os\n",
    "import numpy as np\n",
    "import pandas as pd\n",
    "\n",
    "#设定随机数种子\n",
    "np.random.seed(36)\n",
    "\n",
    "#使用matplotlib库画图\n",
    "import matplotlib\n",
    "import seaborn\n",
    "import matplotlib.pyplot as plot\n",
    "\n",
    "from sklearn import datasets"
   ]
  },
  {
   "cell_type": "code",
   "execution_count": 64,
   "metadata": {},
   "outputs": [],
   "source": [
    "#读取数据\n",
    "housing = pd.read_csv('./kc_train.csv',header=None)\n",
    "housing.iloc[:,1].to_csv('kc_train2.csv',mode='w',header=True,index=None)\n",
    "housing.drop(housing.iloc[:,1:2],axis=1,inplace=True,)\n",
    "housing = pd.read_csv('./kc_train.csv',header=None)\n",
    "target=pd.read_csv('./kc_train2.csv')  #销售价格\n",
    "t=pd.read_csv('./kc_test.csv')         #测试数据"
   ]
  },
  {
   "cell_type": "code",
   "execution_count": 65,
   "metadata": {},
   "outputs": [
    {
     "name": "stdout",
     "output_type": "stream",
     "text": [
      "<class 'pandas.core.frame.DataFrame'>\n",
      "RangeIndex: 10000 entries, 0 to 9999\n",
      "Data columns (total 14 columns):\n",
      " #   Column  Non-Null Count  Dtype  \n",
      "---  ------  --------------  -----  \n",
      " 0   0       10000 non-null  int64  \n",
      " 1   1       10000 non-null  int64  \n",
      " 2   2       10000 non-null  int64  \n",
      " 3   3       10000 non-null  float64\n",
      " 4   4       10000 non-null  int64  \n",
      " 5   5       10000 non-null  int64  \n",
      " 6   6       10000 non-null  float64\n",
      " 7   7       10000 non-null  int64  \n",
      " 8   8       10000 non-null  int64  \n",
      " 9   9       10000 non-null  int64  \n",
      " 10  10      10000 non-null  int64  \n",
      " 11  11      10000 non-null  int64  \n",
      " 12  12      10000 non-null  float64\n",
      " 13  13      10000 non-null  float64\n",
      "dtypes: float64(4), int64(10)\n",
      "memory usage: 1.1 MB\n",
      "<class 'pandas.core.frame.DataFrame'>\n",
      "RangeIndex: 10000 entries, 0 to 9999\n",
      "Data columns (total 1 columns):\n",
      " #   Column  Non-Null Count  Dtype\n",
      "---  ------  --------------  -----\n",
      " 0   1       10000 non-null  int64\n",
      "dtypes: int64(1)\n",
      "memory usage: 78.2 KB\n",
      "(10000, 14)\n"
     ]
    },
    {
     "name": "stderr",
     "output_type": "stream",
     "text": [
      "/home/tower/anaconda3/lib/python3.7/site-packages/sklearn/preprocessing/data.py:323: DataConversionWarning: Data with input dtype int64, float64 were all converted to float64 by MinMaxScaler.\n",
      "  return self.partial_fit(X, y)\n",
      "/home/tower/anaconda3/lib/python3.7/site-packages/sklearn/preprocessing/data.py:323: DataConversionWarning: Data with input dtype int64, float64 were all converted to float64 by MinMaxScaler.\n",
      "  return self.partial_fit(X, y)\n",
      "/home/tower/anaconda3/lib/python3.7/site-packages/sklearn/preprocessing/data.py:323: DataConversionWarning: Data with input dtype int64, float64 were all converted to float64 by MinMaxScaler.\n",
      "  return self.partial_fit(X, y)\n"
     ]
    }
   ],
   "source": [
    "#数据预处理\n",
    "housing.info()    #查看是否有缺失值\n",
    "target.info()\n",
    "\n",
    "#特征缩放\n",
    "from sklearn.preprocessing import MinMaxScaler\n",
    "minmax_scaler=MinMaxScaler()\n",
    "minmax_scaler.fit(housing)   #进行内部拟合，内部参数会发生变化\n",
    "scaler_housing=minmax_scaler.transform(housing)\n",
    "scaler_housing=pd.DataFrame(scaler_housing,columns=housing.columns)\n",
    "print(scaler_housing.shape)\n",
    "mm=MinMaxScaler()\n",
    "mm.fit(t)\n",
    "result_fit = mm.fit(t)\n",
    "scaler_t=mm.transform(t)\n",
    "scaler_t=pd.DataFrame(scaler_t,columns=t.columns)"
   ]
  },
  {
   "cell_type": "code",
   "execution_count": 66,
   "metadata": {},
   "outputs": [],
   "source": [
    "#选择基于梯度下降的线性回归模型\n",
    "from sklearn.linear_model import LinearRegression\n",
    "LR_reg=LinearRegression()\n",
    "#进行拟合\n",
    "LR_reg.fit(scaler_housing,target)\n",
    "\n",
    "\n",
    "#使用均方误差用于评价模型好坏\n",
    "from sklearn.metrics import mean_squared_error\n",
    "preds=LR_reg.predict(scaler_housing)   #输入数据进行预测得到结果\n",
    "mse=mean_squared_error(preds,target)   #使用均方误差来评价模型好坏，可以输出mse进行查看评价值"
   ]
  },
  {
   "cell_type": "code",
   "execution_count": null,
   "metadata": {},
   "outputs": [],
   "source": [
    "参考链接：\n",
    "https://www.kaggle.com/marsggbo/kaggle#%E4%BA%94%E3%80%81%E9%AA%8C%E8%AF%81%E6%B5%8B%E8%AF%95%E9%9B%86%E6%95%B0%E6%8D%AE"
   ]
  }
 ],
 "metadata": {
  "interpreter": {
   "hash": "9102dcdfed993e3ae55df126a81880772fa8b75d9e5a60fa31b5e8708f97b0d2"
  },
  "kernelspec": {
   "display_name": "Python 3",
   "language": "python",
   "name": "python3"
  },
  "language_info": {
   "codemirror_mode": {
    "name": "ipython",
    "version": 3
   },
   "file_extension": ".py",
   "mimetype": "text/x-python",
   "name": "python",
   "nbconvert_exporter": "python",
   "pygments_lexer": "ipython3",
   "version": "3.7.9"
  }
 },
 "nbformat": 4,
 "nbformat_minor": 2
}
