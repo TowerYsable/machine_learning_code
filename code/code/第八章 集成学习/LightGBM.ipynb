{
 "cells": [
  {
   "cell_type": "markdown",
   "source": [
    "## 鸢尾花分类\r\n",
    "题目：使用LightGBM和sklearn库，用lightgbm算法实现鸢尾花种类的分类任务。"
   ],
   "metadata": {}
  },
  {
   "cell_type": "code",
   "execution_count": null,
   "source": [
    "import json\r\n",
    "import lightgbm as lgb\r\n",
    "import pandas as pd\r\n",
    "from sklearn.metrics import mean_squared_error\r\n",
    "from sklearn.datasets import load_iris\r\n",
    "from sklearn.model_selection import train_test_split\r\n",
    "from sklearn.datasets import  make_classification"
   ],
   "outputs": [],
   "metadata": {}
  },
  {
   "cell_type": "code",
   "execution_count": 2,
   "source": [
    "iris = load_iris()   # 载入鸢尾花数据集\r\n",
    "data=iris.data\r\n",
    "target = iris.target\r\n",
    "X_train,X_test,y_train,y_test =train_test_split(data,target,test_size=0.2)\r\n",
    " \r\n",
    " \r\n",
    "# 创建成lgb特征的数据集格式\r\n",
    "lgb_train = lgb.Dataset(X_train, y_train) # 将数据保存到LightGBM二进制文件将使加载更快\r\n",
    "lgb_eval = lgb.Dataset(X_test, y_test, reference=lgb_train)  # 创建验证数据\r\n",
    " \r\n",
    "# 将参数写成字典下形式\r\n",
    "params = {\r\n",
    "    'task': 'train',\r\n",
    "    'boosting_type': 'gbdt',  # 设置提升类型\r\n",
    "    'objective': 'regression', # 目标函数\r\n",
    "    'metric': {'l2', 'auc'},  # 评估函数\r\n",
    "    'num_leaves': 31,   # 叶子节点数\r\n",
    "    'learning_rate': 0.05,  # 学习速率\r\n",
    "    'feature_fraction': 0.9, # 建树的特征选择比例\r\n",
    "    'bagging_fraction': 0.8, # 建树的样本采样比例\r\n",
    "    'bagging_freq': 5,  # k 意味着每 k 次迭代执行bagging\r\n",
    "    'verbose': 1 # <0 显示致命的, =0 显示错误 (警告), >0 显示信息\r\n",
    "}\r\n",
    " \r\n",
    "print('Start training...')\r\n",
    "# 训练 cv and train\r\n",
    "gbm = lgb.train(params,lgb_train,num_boost_round=20,valid_sets=lgb_eval,early_stopping_rounds=5) # 训练数据需要参数列表和数据集\r\n",
    " \r\n",
    "print('Save model...') \r\n",
    " \r\n",
    "gbm.save_model('model.txt')   # 训练后保存模型到文件\r\n",
    " \r\n",
    "print('Start predicting...')\r\n",
    "# 预测数据集\r\n",
    "y_pred = gbm.predict(X_test, num_iteration=gbm.best_iteration) #如果在训练期间启用了早期停止，可以通过best_iteration方式从最佳迭代中获得预测\r\n",
    "# 评估模型\r\n",
    "print('The rmse of prediction is:', mean_squared_error(y_test, y_pred) ** 0.5) # 计算真实值和预测值之间的均方根误差"
   ],
   "outputs": [
    {
     "output_type": "stream",
     "name": "stdout",
     "text": [
      "Start training...\n",
      "[1]\tvalid_0's auc: 1\tvalid_0's l2: 0.625393\n",
      "Training until validation scores don't improve for 5 rounds.\n",
      "[2]\tvalid_0's auc: 1\tvalid_0's l2: 0.567814\n",
      "[3]\tvalid_0's auc: 1\tvalid_0's l2: 0.515827\n",
      "[4]\tvalid_0's auc: 1\tvalid_0's l2: 0.466764\n",
      "[5]\tvalid_0's auc: 1\tvalid_0's l2: 0.424377\n",
      "[6]\tvalid_0's auc: 1\tvalid_0's l2: 0.385323\n",
      "Early stopping, best iteration is:\n",
      "[1]\tvalid_0's auc: 1\tvalid_0's l2: 0.625393\n",
      "Save model...\n",
      "Start predicting...\n",
      "The rmse of prediction is: 0.7908176179297906\n"
     ]
    }
   ],
   "metadata": {}
  }
 ],
 "metadata": {
  "kernelspec": {
   "display_name": "Python 3",
   "language": "python",
   "name": "python3"
  },
  "language_info": {
   "codemirror_mode": {
    "name": "ipython",
    "version": 3
   },
   "file_extension": ".py",
   "mimetype": "text/x-python",
   "name": "python",
   "nbconvert_exporter": "python",
   "pygments_lexer": "ipython3",
   "version": "3.5.4"
  }
 },
 "nbformat": 4,
 "nbformat_minor": 2
}