{
 "cells": [
  {
   "cell_type": "code",
   "execution_count": 3,
   "metadata": {},
   "outputs": [],
   "source": [
    "import numpy as np\n",
    "import pandas as pd\n",
    "from pandas import Series,DataFrame\n",
    "import matplotlib.pyplot as plt\n",
    "%matplotlib inline\n",
    "\n",
    "#向量机\n",
    "from sklearn.svm import SVC\n",
    "\n",
    "#主成分分析(principal components analysis),主要用于数据降维的\n",
    "from sklearn.decomposition import PCA\n",
    "\n",
    "#用于切割训练数据和样本数据\n",
    "from sklearn.model_selection import train_test_split\n"
   ]
  },
  {
   "cell_type": "code",
   "execution_count": null,
   "metadata": {},
   "outputs": [],
   "source": [
    "#本地数据\n",
    "data = pd.read_csv('digits.csv')\n",
    "\n",
    "train = data.iloc[:,1:]\n",
    "target = data['label']\n",
    "\n",
    "#训练数据和样本数据切割\n",
    "X_train,x_test,y_train,y_true = train_test_split(train,target,test_size=0.2)"
   ]
  },
  {
   "cell_type": "code",
   "execution_count": null,
   "metadata": {},
   "outputs": [],
   "source": [
    "# 3.1.创建pca对象\n",
    "pca = PCA(n_components=150,whiten=True)\n",
    "\n",
    "#3.2.使用pca训练数据\n",
    "pca.fit(X_train,y_train)\n",
    "\n",
    "#3.3.对数据进行降维处理\n",
    "X_train_pca = pca.transform(X_train)\n",
    "x_test_pca = pca.transform(x_test)\n",
    "\n",
    "# 结果将由原来的784个特征变为了150个特征\n"
   ]
  },
  {
   "cell_type": "code",
   "execution_count": null,
   "metadata": {},
   "outputs": [],
   "source": [
    "# 使用降维后的数据进行模型训练\n",
    "svc = SVC(kernel = 'rbf')\n",
    "svc.fit(X_train_pca,y_train)"
   ]
  },
  {
   "cell_type": "code",
   "execution_count": null,
   "metadata": {},
   "outputs": [],
   "source": [
    "y_pre_svc = svc.predict(x_test_pca)"
   ]
  },
  {
   "cell_type": "code",
   "execution_count": null,
   "metadata": {},
   "outputs": [],
   "source": [
    "# 7.展示结果\n",
    "#展示前100的测试样本数据\n",
    "samples = x_test.iloc[:100]\n",
    "y_pre = y_pre_svc[:100]\n",
    "\n",
    "plt.figure(figsize=(12,18))\n",
    "for i in range(100):\n",
    "    plt.subplot(10,10,i+1)\n",
    "    plt.imshow(samples.iloc[i].reshape(28,28),cmap='gray')\n",
    "    title = 'True:'+str(y_true.iloc[i])+'\\nSVC:'+str(y_pre[i])\n",
    "    plt.title(title)\n",
    "    plt.axis('off')"
   ]
  },
  {
   "cell_type": "code",
   "execution_count": null,
   "metadata": {},
   "outputs": [],
   "source": [
    "# 8.模型执行降维后数据的评分\n",
    "svc.score(x_test_pca[:100],y_true[:100])"
   ]
  }
 ],
 "metadata": {
  "kernelspec": {
   "display_name": "Python 3",
   "language": "python",
   "name": "python3"
  },
  "language_info": {
   "codemirror_mode": {
    "name": "ipython",
    "version": 3
   },
   "file_extension": ".py",
   "mimetype": "text/x-python",
   "name": "python",
   "nbconvert_exporter": "python",
   "pygments_lexer": "ipython3",
   "version": "3.7.9"
  }
 },
 "nbformat": 4,
 "nbformat_minor": 2
}
